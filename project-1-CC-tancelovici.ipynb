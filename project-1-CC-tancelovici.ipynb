{
 "cells": [
  {
   "cell_type": "markdown",
   "metadata": {},
   "source": [
    "<img src=\"http://imgur.com/1ZcRyrc.png\" style=\"float: left; margin: 20px; height: 55px\">\n",
    "\n",
    "# Project 1: Python Coding Exercises\n",
    "\n",
    "_Authors: Joseph Nelson (DC)_\n",
    "\n",
    "---"
   ]
  },
  {
   "cell_type": "markdown",
   "metadata": {},
   "source": [
    "The following code challenges are drawn from common exercises used in technical interviews.\n",
    "\n",
    "Please note that there may be several ways to approach each challenge. If you get stuck, try mapping out your approach in pseudocode first. Finally, while solutions to problems like these may be found online, remember that if you copy/paste code that you can't explain, you'll be missing out on the point of the project. The only way to truly learn a new skill is through practice, trial, and error - we can only help you improve by understanding where you are having trouble."
   ]
  },
  {
   "cell_type": "markdown",
   "metadata": {},
   "source": [
    "### Challenge 1: Largest Palindrome\n",
    "A palindromic number reads the same both ways. For example, 1234321 is a palindrome. The largest palindrome made from the product of two two-digit numbers is 9009 = 91 × 99. Find the largest palindrome made from the product of two three-digit numbers. Afterward, write a brief explanation walking through your code's logic in markdown."
   ]
  },
  {
   "cell_type": "code",
   "execution_count": 30,
   "metadata": {},
   "outputs": [
    {
     "name": "stdout",
     "output_type": "stream",
     "text": [
      "906609\n",
      "[10201, 11211, 12221, 13231, 14241, 15251, 16261, 17271, 18281, 19291, 20402, 21412, 22422, 23432, 24442, 25452, 26462, 27472, 28482, 29492, 30603, 31613, 32623, 33633, 34643, 35653, 36663, 37673, 38683, 39693, 40804, 41814, 42824, 43834, 44844, 45854, 46864, 47874, 48884, 49894, 20502, 21012, 41514, 42024, 62526, 63036, 83538, 84048, 26162, 47174, 68186, 89198, 21112, 27872, 42224, 48984, 63336, 80808, 84448, 88088, 50505, 53235, 55755, 58485, 23532, 25652, 27772, 29892, 40704, 44944, 25252, 45154, 65056, 73937, 93839, 27972, 29592, 46764, 48384, 63936, 65556, 67176, 82728, 84348, 15151, 64746, 74447, 79897, 84148, 89598, 99299, 12321, 13431, 14541, 15651, 16761, 17871, 18981, 20202, 21312, 24642, 25752, 26862, 30303, 31413, 32523, 34743, 35853, 36963, 40404, 42624, 43734, 45954, 51615, 52725, 53835, 54945, 60606, 61716, 62826, 70707, 71817, 72927, 81918, 90909, 23632, 29792, 65856, 27572, 49494, 51415, 73337, 78987, 80908, 95259, 26562, 43434, 60306, 68286, 69996, 85158, 86868, 52325, 53935, 56465, 44544, 61016, 65656, 67976, 82128, 86768, 28782, 76167, 99099, 21712, 46964, 64546, 68086, 89798, 15351, 44744, 54145, 69496, 98889, 14641, 15851, 22022, 23232, 33033, 34243, 35453, 37873, 44044, 45254, 46464, 47674, 55055, 56265, 57475, 58685, 59895, 66066, 67276, 68486, 69696, 77077, 78287, 79497, 89298, 106601, 119911, 26962, 28182, 40504, 41114, 68686, 69296, 81618, 82228, 18081, 33333, 66666, 71217, 99999, 117711, 23932, 44144, 48484, 63736, 88288, 52125, 52625, 57375, 57875, 81018, 37973, 60706, 69596, 75057, 92329, 34443, 49794, 53535, 68886, 72627, 87978, 91719, 25152, 37073, 38383, 21912, 61116, 21812, 37373, 66766, 74347, 46364, 66866, 85358, 56565, 58185, 19591, 20002, 30003, 39593, 40004, 49594, 50005, 59595, 60006, 70007, 79597, 80008, 90009, 99599, 110011, 64446, 68586, 87078, 24742, 39893, 76867, 105501, 27072, 67876, 82928, 83638, 85058, 101101, 111111, 121121, 131131, 141141, 80208, 50605, 52925, 57275, 22922, 42924, 62926, 89498, 88788, 93639, 74947, 83738, 89698, 92529, 98489, 72027, 73537, 87278, 46664, 48184, 63536, 80408, 77877, 55955, 86268, 26062, 35953, 39093, 70807, 83838, 96869, 108801, 143341, 28282, 43134, 62726, 78387, 95559, 29992, 59495, 68786, 98289, 102201, 29192, 44444, 67076, 82328, 88888, 51315, 47974, 66566, 29392, 33233, 66466, 70307, 99699, 59995, 61516, 98189, 31313, 62626, 77677, 93939, 165561, 57575, 40304, 80608, 59295, 98589, 51015, 65156, 79297, 155551, 79097, 92129, 41314, 62426, 64246, 81718, 82628, 87178, 74847, 44344, 88688, 127721, 133331, 168861, 174471, 180081, 86668, 36863, 52525, 87478, 67776, 97079, 142241, 71117, 79797, 55555, 96669, 137731, 154451, 171171, 189981, 204402, 92629, 76467, 92229, 51815, 55255, 210012, 56865, 59095, 98789, 188881, 52425, 99199, 182281, 138831, 198891, 219912, 222222, 56165, 58985, 128821, 201102, 214412, 227722, 215512, 74547, 90109, 161161, 178871, 221122, 238832, 90209, 213312, 234432, 255552, 239932, 73437, 99799, 77777, 122221, 244442, 96369, 252252, 220022, 270072, 99899, 202202, 212212, 232232, 242242, 262262, 272272, 282282, 95659, 92829, 94149, 123321, 156651, 246642, 279972, 225522, 94249, 256652, 259952, 292292, 299992, 231132, 286682, 149941, 258852, 140041, 209902, 257752, 280082, 273372, 302203, 135531, 329923, 324423, 129921, 184481, 266662, 301103, 290092, 276672, 297792, 147741, 162261, 348843, 284482, 378873, 294492, 372273, 159951, 216612, 187781, 235532, 321123, 333333, 345543, 357753, 369963, 330033, 408804, 308803, 401104, 277772, 303303, 363363, 393393, 414414, 428824, 420024, 436634, 366663, 371173, 407704, 412214, 443344, 249942, 444444, 354453, 359953, 397793, 296692, 402204, 469964, 445544, 306603, 485584, 367763, 442244, 459954, 470074, 487784, 425524, 405504, 489984, 320023, 335533, 461164, 476674, 514415, 399993, 426624, 447744, 468864, 432234, 289982, 491194, 343343, 434434, 525525, 488884, 507705, 474474, 493394, 409904, 440044, 513315, 531135, 543345, 441144, 456654, 462264, 377773, 421124, 404404, 424424, 464464, 484484, 384483, 374473, 391193, 580085, 548845, 554455, 375573, 560065, 508805, 510015, 523325, 536635, 549945, 551155, 564465, 577775, 592295, 601106, 534435, 477774, 561165, 579975, 589985, 522225, 509905, 595595, 616616, 416614, 623326, 528825, 588885, 611116, 471174, 631136, 438834, 604406, 650056, 630036, 452254, 506605, 520025, 648846, 602206, 649946, 653356, 519915, 550055, 636636, 570075, 585585, 666666, 512215, 573375, 576675, 618816, 639936, 505505, 606606, 515515, 535535, 545545, 555555, 565565, 575575, 698896, 603306, 657756, 672276, 656656, 696696, 661166, 571175, 654456, 652256, 693396, 663366, 723327, 619916, 612216, 642246, 675576, 689986, 660066, 729927, 770077, 678876, 747747, 804408, 807708, 737737, 780087, 802208, 828828, 749947, 801108, 821128, 793397, 809908, 853358, 840048, 855558, 819918, 824428, 906609, 886688, 861168, 888888]\n"
     ]
    }
   ],
   "source": [
    "palindrome_three_by_three = []\n",
    "for n in range(100,1000):\n",
    "    for i in range(100,1000):\n",
    "        three_by_three = str(n*i)\n",
    "        palindrome_test = three_by_three[::-1]\n",
    "        if three_by_three == palindrome_test:\n",
    "            three_by_three = int(three_by_three)\n",
    "            if three_by_three not in palindrome_three_by_three:\n",
    "                palindrome_three_by_three.append(three_by_three)\n",
    "print(max(palindrome_three_by_three))\n",
    "print(palindrome_three_by_three)\n",
    "\n",
    "        "
   ]
  },
  {
   "cell_type": "markdown",
   "metadata": {},
   "source": [
    "\n",
    "### Challenge 2: Summation of Primes\n",
    "The sum of the primes below 10 is 2 + 3 + 5 + 7 = 17. Find the sum of all the primes below 2,000. Afterward, write a brief explanation walking through your code's logic in markdown."
   ]
  },
  {
   "cell_type": "code",
   "execution_count": 8,
   "metadata": {},
   "outputs": [
    {
     "name": "stdout",
     "output_type": "stream",
     "text": [
      "[2, 3, 5, 7, 11, 13, 17, 19, 23, 29, 31, 37, 41, 43, 47, 53, 59, 61, 67, 71, 73, 79, 83, 89, 97, 101, 103, 107, 109, 113, 127, 131, 137, 139, 149, 151, 157, 163, 167, 173, 179, 181, 191, 193, 197, 199, 211, 223, 227, 229, 233, 239, 241, 251, 257, 263, 269, 271, 277, 281, 283, 293, 307, 311, 313, 317, 331, 337, 347, 349, 353, 359, 367, 373, 379, 383, 389, 397, 401, 409, 419, 421, 431, 433, 439, 443, 449, 457, 461, 463, 467, 479, 487, 491, 499, 503, 509, 521, 523, 541, 547, 557, 563, 569, 571, 577, 587, 593, 599, 601, 607, 613, 617, 619, 631, 641, 643, 647, 653, 659, 661, 673, 677, 683, 691, 701, 709, 719, 727, 733, 739, 743, 751, 757, 761, 769, 773, 787, 797, 809, 811, 821, 823, 827, 829, 839, 853, 857, 859, 863, 877, 881, 883, 887, 907, 911, 919, 929, 937, 941, 947, 953, 967, 971, 977, 983, 991, 997, 1009, 1013, 1019, 1021, 1031, 1033, 1039, 1049, 1051, 1061, 1063, 1069, 1087, 1091, 1093, 1097, 1103, 1109, 1117, 1123, 1129, 1151, 1153, 1163, 1171, 1181, 1187, 1193, 1201, 1213, 1217, 1223, 1229, 1231, 1237, 1249, 1259, 1277, 1279, 1283, 1289, 1291, 1297, 1301, 1303, 1307, 1319, 1321, 1327, 1361, 1367, 1373, 1381, 1399, 1409, 1423, 1427, 1429, 1433, 1439, 1447, 1451, 1453, 1459, 1471, 1481, 1483, 1487, 1489, 1493, 1499, 1511, 1523, 1531, 1543, 1549, 1553, 1559, 1567, 1571, 1579, 1583, 1597, 1601, 1607, 1609, 1613, 1619, 1621, 1627, 1637, 1657, 1663, 1667, 1669, 1693, 1697, 1699, 1709, 1721, 1723, 1733, 1741, 1747, 1753, 1759, 1777, 1783, 1787, 1789, 1801, 1811, 1823, 1831, 1847, 1861, 1867, 1871, 1873, 1877, 1879, 1889, 1901, 1907, 1913, 1931, 1933, 1949, 1951, 1973, 1979, 1987, 1993, 1997, 1999]\n",
      "277050\n",
      "277050\n"
     ]
    }
   ],
   "source": [
    "primes=[]\n",
    "t = 0\n",
    "for n in range(2,2001):\n",
    "    factors=[]\n",
    "    for i in range(1,n+1):\n",
    "        if n % i == 0:\n",
    "            factors.append(i)\n",
    "    if len(factors) == 2:\n",
    "        primes.append(factors[1])\n",
    "        t = t + factors[1]\n",
    "print(primes)\n",
    "print(t)\n",
    "\n",
    "\n",
    "t = 0\n",
    "for n in range(2,2001):\n",
    "    factors=[]\n",
    "    for i in range(1,n+1):\n",
    "        if n % i == 0:\n",
    "            factors.append(i)\n",
    "    if len(factors) == 2:\n",
    "        t = t + factors[1]\n",
    "print(t)\n"
   ]
  },
  {
   "cell_type": "markdown",
   "metadata": {},
   "source": [
    "### Challenge 3: Multiples of 3 and 5\n",
    "If we list all of the natural numbers below 10 that are multiples of 3 or 5, we get 3, 5, 6, and 9. The sum of these multiples is 23. Find the sum of all the multiples of 3 and 5 below 1,000. Afterward, write a brief explanation walking through your code's logic in markdown."
   ]
  },
  {
   "cell_type": "code",
   "execution_count": 24,
   "metadata": {},
   "outputs": [
    {
     "name": "stdout",
     "output_type": "stream",
     "text": [
      "234168\n",
      "467\n",
      "[3, 5, 6, 9, 10, 12, 15, 18, 20, 21, 24, 25, 27, 30, 33, 35, 36, 39, 40, 42, 45, 48, 50, 51, 54, 55, 57, 60, 63, 65, 66, 69, 70, 72, 75, 78, 80, 81, 84, 85, 87, 90, 93, 95, 96, 99, 100, 102, 105, 108, 110, 111, 114, 115, 117, 120, 123, 125, 126, 129, 130, 132, 135, 138, 140, 141, 144, 145, 147, 150, 153, 155, 156, 159, 160, 162, 165, 168, 170, 171, 174, 175, 177, 180, 183, 185, 186, 189, 190, 192, 195, 198, 200, 201, 204, 205, 207, 210, 213, 215, 216, 219, 220, 222, 225, 228, 230, 231, 234, 235, 237, 240, 243, 245, 246, 249, 250, 252, 255, 258, 260, 261, 264, 265, 267, 270, 273, 275, 276, 279, 280, 282, 285, 288, 290, 291, 294, 295, 297, 300, 303, 305, 306, 309, 310, 312, 315, 318, 320, 321, 324, 325, 327, 330, 333, 335, 336, 339, 340, 342, 345, 348, 350, 351, 354, 355, 357, 360, 363, 365, 366, 369, 370, 372, 375, 378, 380, 381, 384, 385, 387, 390, 393, 395, 396, 399, 400, 402, 405, 408, 410, 411, 414, 415, 417, 420, 423, 425, 426, 429, 430, 432, 435, 438, 440, 441, 444, 445, 447, 450, 453, 455, 456, 459, 460, 462, 465, 468, 470, 471, 474, 475, 477, 480, 483, 485, 486, 489, 490, 492, 495, 498, 500, 501, 504, 505, 507, 510, 513, 515, 516, 519, 520, 522, 525, 528, 530, 531, 534, 535, 537, 540, 543, 545, 546, 549, 550, 552, 555, 558, 560, 561, 564, 565, 567, 570, 573, 575, 576, 579, 580, 582, 585, 588, 590, 591, 594, 595, 597, 600, 603, 605, 606, 609, 610, 612, 615, 618, 620, 621, 624, 625, 627, 630, 633, 635, 636, 639, 640, 642, 645, 648, 650, 651, 654, 655, 657, 660, 663, 665, 666, 669, 670, 672, 675, 678, 680, 681, 684, 685, 687, 690, 693, 695, 696, 699, 700, 702, 705, 708, 710, 711, 714, 715, 717, 720, 723, 725, 726, 729, 730, 732, 735, 738, 740, 741, 744, 745, 747, 750, 753, 755, 756, 759, 760, 762, 765, 768, 770, 771, 774, 775, 777, 780, 783, 785, 786, 789, 790, 792, 795, 798, 800, 801, 804, 805, 807, 810, 813, 815, 816, 819, 820, 822, 825, 828, 830, 831, 834, 835, 837, 840, 843, 845, 846, 849, 850, 852, 855, 858, 860, 861, 864, 865, 867, 870, 873, 875, 876, 879, 880, 882, 885, 888, 890, 891, 894, 895, 897, 900, 903, 905, 906, 909, 910, 912, 915, 918, 920, 921, 924, 925, 927, 930, 933, 935, 936, 939, 940, 942, 945, 948, 950, 951, 954, 955, 957, 960, 963, 965, 966, 969, 970, 972, 975, 978, 980, 981, 984, 985, 987, 990, 993, 995, 996, 999, 1000]\n"
     ]
    }
   ],
   "source": [
    "three_five_factors=[]\n",
    "for n in range(3,1001):\n",
    "    if n % 3 == 0:\n",
    "        three_five_factors.append(n)\n",
    "    elif n % 5 == 0:\n",
    "        three_five_factors.append(n)\n",
    "print(sum(three_five_factors))\n",
    "print(len(three_five_factors))\n",
    "print(three_five_factors)"
   ]
  },
  {
   "cell_type": "markdown",
   "metadata": {},
   "source": [
    "### Challenge 4: String Compressor\n",
    "Implement a method to perform basic string compression using the counts of repeated characters. (This is called run-length encoding.) For example, the string \"aabcccccaaa\" would become a2b1c5a3. If the “compressed” string would not become smaller than the original string, your method should return the original string. You can assume the string has only uppercase and lowercase letters (a–z). Specify whether your solution is case sensitive or case insensitive and what you would need to change to make it the other. Afterward, write a brief explanation walking through your code's logic in markdown."
   ]
  },
  {
   "cell_type": "code",
   "execution_count": null,
   "metadata": {
    "collapsed": true
   },
   "outputs": [],
   "source": []
  },
  {
   "cell_type": "markdown",
   "metadata": {},
   "source": [
    "### *BONUS* Challenge: FizzBuzz\n",
    "Write a program that prints all of the numbers from 1 to 100. For multiples of 3, instead of the number, print \"Fizz;\" for multiples of 5, print \"Buzz.\" For numbers that are multiples of both 3 and 5, print \"FizzBuzz.\" Afterward, write a brief explanation walking through your code's logic in markdown."
   ]
  },
  {
   "cell_type": "code",
   "execution_count": 22,
   "metadata": {},
   "outputs": [
    {
     "name": "stdout",
     "output_type": "stream",
     "text": [
      "1\n",
      "2\n",
      "FizzBuzz\n",
      "4\n",
      "Buzz\n",
      "FizzBuzz\n",
      "7\n",
      "8\n",
      "FizzBuzz\n",
      "Buzz\n",
      "11\n",
      "FizzBuzz\n",
      "13\n",
      "14\n",
      "FizzBuzz\n",
      "16\n",
      "17\n",
      "FizzBuzz\n",
      "19\n",
      "Buzz\n",
      "FizzBuzz\n",
      "22\n",
      "23\n",
      "FizzBuzz\n",
      "Buzz\n",
      "26\n",
      "FizzBuzz\n",
      "28\n",
      "29\n",
      "FizzBuzz\n",
      "31\n",
      "32\n",
      "FizzBuzz\n",
      "34\n",
      "Buzz\n",
      "FizzBuzz\n",
      "37\n",
      "38\n",
      "FizzBuzz\n",
      "Buzz\n",
      "41\n",
      "FizzBuzz\n",
      "43\n",
      "44\n",
      "FizzBuzz\n",
      "46\n",
      "47\n",
      "FizzBuzz\n",
      "49\n",
      "Buzz\n",
      "FizzBuzz\n",
      "52\n",
      "53\n",
      "FizzBuzz\n",
      "Buzz\n",
      "56\n",
      "FizzBuzz\n",
      "58\n",
      "59\n",
      "FizzBuzz\n",
      "61\n",
      "62\n",
      "FizzBuzz\n",
      "64\n",
      "Buzz\n",
      "FizzBuzz\n",
      "67\n",
      "68\n",
      "FizzBuzz\n",
      "Buzz\n",
      "71\n",
      "FizzBuzz\n",
      "73\n",
      "74\n",
      "FizzBuzz\n",
      "76\n",
      "77\n",
      "FizzBuzz\n",
      "79\n",
      "Buzz\n",
      "FizzBuzz\n",
      "82\n",
      "83\n",
      "FizzBuzz\n",
      "Buzz\n",
      "86\n",
      "FizzBuzz\n",
      "88\n",
      "89\n",
      "FizzBuzz\n",
      "91\n",
      "92\n",
      "FizzBuzz\n",
      "94\n",
      "Buzz\n",
      "FizzBuzz\n",
      "97\n",
      "98\n",
      "FizzBuzz\n",
      "Buzz\n"
     ]
    }
   ],
   "source": [
    "for n in range(1,101):\n",
    "    if n % 3 == 0 & n % 5 == 0:\n",
    "        print(\"FizzBuzz\")\n",
    "    elif n % 3 == 0:\n",
    "        print(\"Fizz\")\n",
    "    elif n % 5 == 0:\n",
    "        print(\"Buzz\")\n",
    "    else:\n",
    "        print(n)"
   ]
  },
  {
   "cell_type": "code",
   "execution_count": null,
   "metadata": {
    "collapsed": true
   },
   "outputs": [],
   "source": []
  }
 ],
 "metadata": {
  "anaconda-cloud": {},
  "kernelspec": {
   "display_name": "Python 3",
   "language": "python",
   "name": "python3"
  },
  "language_info": {
   "codemirror_mode": {
    "name": "ipython",
    "version": 3
   },
   "file_extension": ".py",
   "mimetype": "text/x-python",
   "name": "python",
   "nbconvert_exporter": "python",
   "pygments_lexer": "ipython3",
   "version": "3.6.5"
  }
 },
 "nbformat": 4,
 "nbformat_minor": 2
}
